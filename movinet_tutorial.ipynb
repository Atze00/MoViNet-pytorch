{
  "nbformat": 4,
  "nbformat_minor": 0,
  "metadata": {
    "accelerator": "GPU",
    "colab": {
      "name": "movi_hmdb_off.ipynb",
      "provenance": [],
      "collapsed_sections": []
    },
    "kernelspec": {
      "display_name": "Python 3",
      "name": "python3"
    },
    "language_info": {
      "name": "python"
    },
    "widgets": {
      "application/vnd.jupyter.widget-state+json": {
        "0b653b9393cc4b48bc833ee676d2153f": {
          "model_module": "@jupyter-widgets/controls",
          "model_name": "HBoxModel",
          "state": {
            "_view_name": "HBoxView",
            "_dom_classes": [],
            "_model_name": "HBoxModel",
            "_view_module": "@jupyter-widgets/controls",
            "_model_module_version": "1.5.0",
            "_view_count": null,
            "_view_module_version": "1.5.0",
            "box_style": "",
            "layout": "IPY_MODEL_ae64b361cb424387bb48c205d19b8c46",
            "_model_module": "@jupyter-widgets/controls",
            "children": [
              "IPY_MODEL_8b929a5c5e3b4039a52c6dbbc8339d85",
              "IPY_MODEL_1187595586454e608a71097715eb1d30"
            ]
          }
        },
        "ae64b361cb424387bb48c205d19b8c46": {
          "model_module": "@jupyter-widgets/base",
          "model_name": "LayoutModel",
          "state": {
            "_view_name": "LayoutView",
            "grid_template_rows": null,
            "right": null,
            "justify_content": null,
            "_view_module": "@jupyter-widgets/base",
            "overflow": null,
            "_model_module_version": "1.2.0",
            "_view_count": null,
            "flex_flow": null,
            "width": null,
            "min_width": null,
            "border": null,
            "align_items": null,
            "bottom": null,
            "_model_module": "@jupyter-widgets/base",
            "top": null,
            "grid_column": null,
            "overflow_y": null,
            "overflow_x": null,
            "grid_auto_flow": null,
            "grid_area": null,
            "grid_template_columns": null,
            "flex": null,
            "_model_name": "LayoutModel",
            "justify_items": null,
            "grid_row": null,
            "max_height": null,
            "align_content": null,
            "visibility": null,
            "align_self": null,
            "height": null,
            "min_height": null,
            "padding": null,
            "grid_auto_rows": null,
            "grid_gap": null,
            "max_width": null,
            "order": null,
            "_view_module_version": "1.2.0",
            "grid_template_areas": null,
            "object_position": null,
            "object_fit": null,
            "grid_auto_columns": null,
            "margin": null,
            "display": null,
            "left": null
          }
        },
        "8b929a5c5e3b4039a52c6dbbc8339d85": {
          "model_module": "@jupyter-widgets/controls",
          "model_name": "FloatProgressModel",
          "state": {
            "_view_name": "ProgressView",
            "style": "IPY_MODEL_f04a4c1ce40d4ff6a7b25681b6d46a4c",
            "_dom_classes": [],
            "description": "100%",
            "_model_name": "FloatProgressModel",
            "bar_style": "success",
            "max": 423,
            "_view_module": "@jupyter-widgets/controls",
            "_model_module_version": "1.5.0",
            "value": 423,
            "_view_count": null,
            "_view_module_version": "1.5.0",
            "orientation": "horizontal",
            "min": 0,
            "description_tooltip": null,
            "_model_module": "@jupyter-widgets/controls",
            "layout": "IPY_MODEL_72f528f762164e3c895c333d980686ea"
          }
        },
        "1187595586454e608a71097715eb1d30": {
          "model_module": "@jupyter-widgets/controls",
          "model_name": "HTMLModel",
          "state": {
            "_view_name": "HTMLView",
            "style": "IPY_MODEL_193e7386a6c9492686a9dc7c83b5056a",
            "_dom_classes": [],
            "description": "",
            "_model_name": "HTMLModel",
            "placeholder": "​",
            "_view_module": "@jupyter-widgets/controls",
            "_model_module_version": "1.5.0",
            "value": " 423/423 [03:11&lt;00:00,  2.21it/s]",
            "_view_count": null,
            "_view_module_version": "1.5.0",
            "description_tooltip": null,
            "_model_module": "@jupyter-widgets/controls",
            "layout": "IPY_MODEL_043f3e9167be4c61b124c986ad88b09b"
          }
        },
        "f04a4c1ce40d4ff6a7b25681b6d46a4c": {
          "model_module": "@jupyter-widgets/controls",
          "model_name": "ProgressStyleModel",
          "state": {
            "_view_name": "StyleView",
            "_model_name": "ProgressStyleModel",
            "description_width": "initial",
            "_view_module": "@jupyter-widgets/base",
            "_model_module_version": "1.5.0",
            "_view_count": null,
            "_view_module_version": "1.2.0",
            "bar_color": null,
            "_model_module": "@jupyter-widgets/controls"
          }
        },
        "72f528f762164e3c895c333d980686ea": {
          "model_module": "@jupyter-widgets/base",
          "model_name": "LayoutModel",
          "state": {
            "_view_name": "LayoutView",
            "grid_template_rows": null,
            "right": null,
            "justify_content": null,
            "_view_module": "@jupyter-widgets/base",
            "overflow": null,
            "_model_module_version": "1.2.0",
            "_view_count": null,
            "flex_flow": null,
            "width": null,
            "min_width": null,
            "border": null,
            "align_items": null,
            "bottom": null,
            "_model_module": "@jupyter-widgets/base",
            "top": null,
            "grid_column": null,
            "overflow_y": null,
            "overflow_x": null,
            "grid_auto_flow": null,
            "grid_area": null,
            "grid_template_columns": null,
            "flex": null,
            "_model_name": "LayoutModel",
            "justify_items": null,
            "grid_row": null,
            "max_height": null,
            "align_content": null,
            "visibility": null,
            "align_self": null,
            "height": null,
            "min_height": null,
            "padding": null,
            "grid_auto_rows": null,
            "grid_gap": null,
            "max_width": null,
            "order": null,
            "_view_module_version": "1.2.0",
            "grid_template_areas": null,
            "object_position": null,
            "object_fit": null,
            "grid_auto_columns": null,
            "margin": null,
            "display": null,
            "left": null
          }
        },
        "193e7386a6c9492686a9dc7c83b5056a": {
          "model_module": "@jupyter-widgets/controls",
          "model_name": "DescriptionStyleModel",
          "state": {
            "_view_name": "StyleView",
            "_model_name": "DescriptionStyleModel",
            "description_width": "",
            "_view_module": "@jupyter-widgets/base",
            "_model_module_version": "1.5.0",
            "_view_count": null,
            "_view_module_version": "1.2.0",
            "_model_module": "@jupyter-widgets/controls"
          }
        },
        "043f3e9167be4c61b124c986ad88b09b": {
          "model_module": "@jupyter-widgets/base",
          "model_name": "LayoutModel",
          "state": {
            "_view_name": "LayoutView",
            "grid_template_rows": null,
            "right": null,
            "justify_content": null,
            "_view_module": "@jupyter-widgets/base",
            "overflow": null,
            "_model_module_version": "1.2.0",
            "_view_count": null,
            "flex_flow": null,
            "width": null,
            "min_width": null,
            "border": null,
            "align_items": null,
            "bottom": null,
            "_model_module": "@jupyter-widgets/base",
            "top": null,
            "grid_column": null,
            "overflow_y": null,
            "overflow_x": null,
            "grid_auto_flow": null,
            "grid_area": null,
            "grid_template_columns": null,
            "flex": null,
            "_model_name": "LayoutModel",
            "justify_items": null,
            "grid_row": null,
            "max_height": null,
            "align_content": null,
            "visibility": null,
            "align_self": null,
            "height": null,
            "min_height": null,
            "padding": null,
            "grid_auto_rows": null,
            "grid_gap": null,
            "max_width": null,
            "order": null,
            "_view_module_version": "1.2.0",
            "grid_template_areas": null,
            "object_position": null,
            "object_fit": null,
            "grid_auto_columns": null,
            "margin": null,
            "display": null,
            "left": null
          }
        },
        "c1f96ec04bf54479a70523fd029eaed6": {
          "model_module": "@jupyter-widgets/controls",
          "model_name": "HBoxModel",
          "state": {
            "_view_name": "HBoxView",
            "_dom_classes": [],
            "_model_name": "HBoxModel",
            "_view_module": "@jupyter-widgets/controls",
            "_model_module_version": "1.5.0",
            "_view_count": null,
            "_view_module_version": "1.5.0",
            "box_style": "",
            "layout": "IPY_MODEL_609966cacb4e41119020fcaa2ecce1ad",
            "_model_module": "@jupyter-widgets/controls",
            "children": [
              "IPY_MODEL_2542bcc40b104eb99977cfee0d87457d",
              "IPY_MODEL_ab0135b29dc64b69b72ce0cbdd259ffd"
            ]
          }
        },
        "609966cacb4e41119020fcaa2ecce1ad": {
          "model_module": "@jupyter-widgets/base",
          "model_name": "LayoutModel",
          "state": {
            "_view_name": "LayoutView",
            "grid_template_rows": null,
            "right": null,
            "justify_content": null,
            "_view_module": "@jupyter-widgets/base",
            "overflow": null,
            "_model_module_version": "1.2.0",
            "_view_count": null,
            "flex_flow": null,
            "width": null,
            "min_width": null,
            "border": null,
            "align_items": null,
            "bottom": null,
            "_model_module": "@jupyter-widgets/base",
            "top": null,
            "grid_column": null,
            "overflow_y": null,
            "overflow_x": null,
            "grid_auto_flow": null,
            "grid_area": null,
            "grid_template_columns": null,
            "flex": null,
            "_model_name": "LayoutModel",
            "justify_items": null,
            "grid_row": null,
            "max_height": null,
            "align_content": null,
            "visibility": null,
            "align_self": null,
            "height": null,
            "min_height": null,
            "padding": null,
            "grid_auto_rows": null,
            "grid_gap": null,
            "max_width": null,
            "order": null,
            "_view_module_version": "1.2.0",
            "grid_template_areas": null,
            "object_position": null,
            "object_fit": null,
            "grid_auto_columns": null,
            "margin": null,
            "display": null,
            "left": null
          }
        },
        "2542bcc40b104eb99977cfee0d87457d": {
          "model_module": "@jupyter-widgets/controls",
          "model_name": "FloatProgressModel",
          "state": {
            "_view_name": "ProgressView",
            "style": "IPY_MODEL_977648ac2f73437cbb85ddd33c3ece84",
            "_dom_classes": [],
            "description": "100%",
            "_model_name": "FloatProgressModel",
            "bar_style": "success",
            "max": 423,
            "_view_module": "@jupyter-widgets/controls",
            "_model_module_version": "1.5.0",
            "value": 423,
            "_view_count": null,
            "_view_module_version": "1.5.0",
            "orientation": "horizontal",
            "min": 0,
            "description_tooltip": null,
            "_model_module": "@jupyter-widgets/controls",
            "layout": "IPY_MODEL_052388759d5440a1a73bacad5c5e0330"
          }
        },
        "ab0135b29dc64b69b72ce0cbdd259ffd": {
          "model_module": "@jupyter-widgets/controls",
          "model_name": "HTMLModel",
          "state": {
            "_view_name": "HTMLView",
            "style": "IPY_MODEL_4876e4a261674e5e9dd193d55e2bad86",
            "_dom_classes": [],
            "description": "",
            "_model_name": "HTMLModel",
            "placeholder": "​",
            "_view_module": "@jupyter-widgets/controls",
            "_model_module_version": "1.5.0",
            "value": " 423/423 [01:35&lt;00:00,  4.42it/s]",
            "_view_count": null,
            "_view_module_version": "1.5.0",
            "description_tooltip": null,
            "_model_module": "@jupyter-widgets/controls",
            "layout": "IPY_MODEL_6487763789b84a8996b4fcdf878b89dc"
          }
        },
        "977648ac2f73437cbb85ddd33c3ece84": {
          "model_module": "@jupyter-widgets/controls",
          "model_name": "ProgressStyleModel",
          "state": {
            "_view_name": "StyleView",
            "_model_name": "ProgressStyleModel",
            "description_width": "initial",
            "_view_module": "@jupyter-widgets/base",
            "_model_module_version": "1.5.0",
            "_view_count": null,
            "_view_module_version": "1.2.0",
            "bar_color": null,
            "_model_module": "@jupyter-widgets/controls"
          }
        },
        "052388759d5440a1a73bacad5c5e0330": {
          "model_module": "@jupyter-widgets/base",
          "model_name": "LayoutModel",
          "state": {
            "_view_name": "LayoutView",
            "grid_template_rows": null,
            "right": null,
            "justify_content": null,
            "_view_module": "@jupyter-widgets/base",
            "overflow": null,
            "_model_module_version": "1.2.0",
            "_view_count": null,
            "flex_flow": null,
            "width": null,
            "min_width": null,
            "border": null,
            "align_items": null,
            "bottom": null,
            "_model_module": "@jupyter-widgets/base",
            "top": null,
            "grid_column": null,
            "overflow_y": null,
            "overflow_x": null,
            "grid_auto_flow": null,
            "grid_area": null,
            "grid_template_columns": null,
            "flex": null,
            "_model_name": "LayoutModel",
            "justify_items": null,
            "grid_row": null,
            "max_height": null,
            "align_content": null,
            "visibility": null,
            "align_self": null,
            "height": null,
            "min_height": null,
            "padding": null,
            "grid_auto_rows": null,
            "grid_gap": null,
            "max_width": null,
            "order": null,
            "_view_module_version": "1.2.0",
            "grid_template_areas": null,
            "object_position": null,
            "object_fit": null,
            "grid_auto_columns": null,
            "margin": null,
            "display": null,
            "left": null
          }
        },
        "4876e4a261674e5e9dd193d55e2bad86": {
          "model_module": "@jupyter-widgets/controls",
          "model_name": "DescriptionStyleModel",
          "state": {
            "_view_name": "StyleView",
            "_model_name": "DescriptionStyleModel",
            "description_width": "",
            "_view_module": "@jupyter-widgets/base",
            "_model_module_version": "1.5.0",
            "_view_count": null,
            "_view_module_version": "1.2.0",
            "_model_module": "@jupyter-widgets/controls"
          }
        },
        "6487763789b84a8996b4fcdf878b89dc": {
          "model_module": "@jupyter-widgets/base",
          "model_name": "LayoutModel",
          "state": {
            "_view_name": "LayoutView",
            "grid_template_rows": null,
            "right": null,
            "justify_content": null,
            "_view_module": "@jupyter-widgets/base",
            "overflow": null,
            "_model_module_version": "1.2.0",
            "_view_count": null,
            "flex_flow": null,
            "width": null,
            "min_width": null,
            "border": null,
            "align_items": null,
            "bottom": null,
            "_model_module": "@jupyter-widgets/base",
            "top": null,
            "grid_column": null,
            "overflow_y": null,
            "overflow_x": null,
            "grid_auto_flow": null,
            "grid_area": null,
            "grid_template_columns": null,
            "flex": null,
            "_model_name": "LayoutModel",
            "justify_items": null,
            "grid_row": null,
            "max_height": null,
            "align_content": null,
            "visibility": null,
            "align_self": null,
            "height": null,
            "min_height": null,
            "padding": null,
            "grid_auto_rows": null,
            "grid_gap": null,
            "max_width": null,
            "order": null,
            "_view_module_version": "1.2.0",
            "grid_template_areas": null,
            "object_position": null,
            "object_fit": null,
            "grid_auto_columns": null,
            "margin": null,
            "display": null,
            "left": null
          }
        }
      }
    }
  },
  "cells": [
    {
      "cell_type": "code",
      "metadata": {
        "id": "v5XUp6LhLgDT"
      },
      "source": [
        "!pip3 install fvcore\n",
        "!pip install av\n",
        "! wget https://raw.githubusercontent.com/pytorch/vision/6de158c473b83cf43344a0651d7c01128c7850e6/references/video_classification/transforms.py\n",
        "# Download HMDB51 data and splits from serre lab website\n",
        "! wget http://serre-lab.clps.brown.edu/wp-content/uploads/2013/10/hmdb51_org.rar\n",
        "! wget http://serre-lab.clps.brown.edu/wp-content/uploads/2013/10/test_train_splits.rar"
      ],
      "execution_count": null,
      "outputs": []
    },
    {
      "cell_type": "code",
      "metadata": {
        "id": "IdPFmCYjgviY"
      },
      "source": [
        "# Extract and organize video data..\n",
        "! mkdir -p video_data test_train_splits\n",
        "! unrar e test_train_splits.rar test_train_splits\n",
        "! rm test_train_splits.rar\n",
        "! unrar e hmdb51_org.rar \n",
        "! rm hmdb51_org.rar\n",
        "! mv *.rar video_data\n",
        "import os\n",
        "for files in os.listdir('video_data'):\n",
        "    foldername = files.split('.')[0]\n",
        "    os.system(\"mkdir -p video_data/\" + foldername)\n",
        "    os.system(\"unrar e video_data/\"+ files + \" video_data/\"+foldername)\n",
        "\n",
        "! rm video_data/*.rar\n",
        "\n",
        "!git clone https://github.com/Atze00/MoViNet-pytorch.git\n",
        "import sys\n",
        "sys.path.append(\"/content/MoViNet-pytorch\")"
      ],
      "execution_count": null,
      "outputs": []
    },
    {
      "cell_type": "code",
      "metadata": {
        "colab": {
          "base_uri": "https://localhost:8080/",
          "height": 174,
          "referenced_widgets": [
            "0b653b9393cc4b48bc833ee676d2153f",
            "ae64b361cb424387bb48c205d19b8c46",
            "8b929a5c5e3b4039a52c6dbbc8339d85",
            "1187595586454e608a71097715eb1d30",
            "f04a4c1ce40d4ff6a7b25681b6d46a4c",
            "72f528f762164e3c895c333d980686ea",
            "193e7386a6c9492686a9dc7c83b5056a",
            "043f3e9167be4c61b124c986ad88b09b",
            "c1f96ec04bf54479a70523fd029eaed6",
            "609966cacb4e41119020fcaa2ecce1ad",
            "2542bcc40b104eb99977cfee0d87457d",
            "ab0135b29dc64b69b72ce0cbdd259ffd",
            "977648ac2f73437cbb85ddd33c3ece84",
            "052388759d5440a1a73bacad5c5e0330",
            "4876e4a261674e5e9dd193d55e2bad86",
            "6487763789b84a8996b4fcdf878b89dc"
          ]
        },
        "id": "JpChe2ZX2-Zq",
        "outputId": "7c251f9c-dfdb-4c95-8e45-4aa63914158a"
      },
      "source": [
        "import time\n",
        "import torchvision\n",
        "import torch.nn.functional as F\n",
        "import torchvision.transforms as transforms\n",
        "import torch.optim as optim\n",
        "from torch.utils.data import random_split, DataLoader\n",
        "import torch\n",
        "import transforms as T\n",
        "from models import MoViNet\n",
        "from config import _C\n",
        "\n",
        "torch.manual_seed(97)\n",
        "num_frames = 16 # 16\n",
        "clip_steps = 2\n",
        "Bs_Train = 16\n",
        "Bs_Test = 16\n",
        "\n",
        "transform = transforms.Compose([  \n",
        "                                                     \n",
        "                                 T.ToFloatTensorInZeroOne(),\n",
        "                                 T.Resize((200, 200)),\n",
        "                                 T.RandomHorizontalFlip(),\n",
        "                                 #T.Normalize(mean=[0.43216, 0.394666, 0.37645], std=[0.22803, 0.22145, 0.216989]),\n",
        "                                 T.RandomCrop((172, 172))])\n",
        "transform_test = transforms.Compose([                           \n",
        "                                 T.ToFloatTensorInZeroOne(),\n",
        "                                 T.Resize((200, 200)),\n",
        "                                 #T.Normalize(mean=[0.43216, 0.394666, 0.37645], std=[0.22803, 0.22145, 0.216989]),\n",
        "                                 T.CenterCrop((172, 172))])\n",
        "\n",
        "hmdb51_train = torchvision.datasets.HMDB51('video_data/', 'test_train_splits/', num_frames,frame_rate=5,\n",
        "                                                step_between_clips = clip_steps, fold=1, train=True,\n",
        "                                                transform=transform_test, num_workers=2)\n",
        "\n",
        "\n",
        "hmdb51_test = torchvision.datasets.HMDB51('video_data/', 'test_train_splits/', num_frames,frame_rate=5,\n",
        "                                                step_between_clips = clip_steps, fold=1, train=False,\n",
        "                                                transform=transform, num_workers=2)\n",
        "train_loader = DataLoader(hmdb51_train, batch_size=Bs_Train, shuffle=True)\n",
        "test_loader  = DataLoader(hmdb51_test, batch_size=Bs_Test, shuffle=False)"
      ],
      "execution_count": 8,
      "outputs": [
        {
          "output_type": "display_data",
          "data": {
            "application/vnd.jupyter.widget-view+json": {
              "model_id": "0b653b9393cc4b48bc833ee676d2153f",
              "version_minor": 0,
              "version_major": 2
            },
            "text/plain": [
              "HBox(children=(FloatProgress(value=0.0, max=423.0), HTML(value='')))"
            ]
          },
          "metadata": {
            "tags": []
          }
        },
        {
          "output_type": "stream",
          "text": [
            "\n"
          ],
          "name": "stdout"
        },
        {
          "output_type": "stream",
          "text": [
            "/usr/local/lib/python3.7/dist-packages/torchvision/datasets/video_utils.py:215: UserWarning: There aren't enough frames in the current video to get a clip for the given clip length and frames between clips. The video (and potentially others) will be skipped.\n",
            "  warnings.warn(\"There aren't enough frames in the current video to get a clip for the given clip length and \"\n"
          ],
          "name": "stderr"
        },
        {
          "output_type": "display_data",
          "data": {
            "application/vnd.jupyter.widget-view+json": {
              "model_id": "c1f96ec04bf54479a70523fd029eaed6",
              "version_minor": 0,
              "version_major": 2
            },
            "text/plain": [
              "HBox(children=(FloatProgress(value=0.0, max=423.0), HTML(value='')))"
            ]
          },
          "metadata": {
            "tags": []
          }
        },
        {
          "output_type": "stream",
          "text": [
            "\n"
          ],
          "name": "stdout"
        }
      ]
    },
    {
      "cell_type": "code",
      "metadata": {
        "id": "wUawNw9scph7"
      },
      "source": [
        "def train_iter(model, optimz, data_load, loss_val):\n",
        "    samples = len(data_load.dataset)\n",
        "    model.train()\n",
        "    model.cuda()\n",
        "    model.clean_activation_buffers()\n",
        "    optimz.zero_grad()\n",
        "    for i, (data,_ , target) in enumerate(data_load):\n",
        "        out = F.log_softmax(model(data.cuda()), dim=1)\n",
        "        loss = F.nll_loss(out, target.cuda())\n",
        "        loss.backward()\n",
        "        optimz.step()\n",
        "        optimz.zero_grad()\n",
        "        model.clean_activation_buffers()\n",
        "        if i % 50 == 0:\n",
        "            print('[' +  '{:5}'.format(i * len(data)) + '/' + '{:5}'.format(samples) +\n",
        "                  ' (' + '{:3.0f}'.format(100 * i / len(data_load)) + '%)]  Loss: ' +\n",
        "                  '{:6.4f}'.format(loss.item()))\n",
        "            loss_val.append(loss.item())\n",
        " \n",
        "def evaluate(model, data_load, loss_val):\n",
        "    model.eval()\n",
        "    \n",
        "    samples = len(data_load.dataset)\n",
        "    csamp = 0\n",
        "    tloss = 0\n",
        "    model.clean_activation_buffers()\n",
        "    with torch.no_grad():\n",
        "        for data, _, target in data_load:\n",
        "            output = F.log_softmax(model(data.cuda()), dim=1)\n",
        "            loss = F.nll_loss(output, target.cuda(), reduction='sum')\n",
        "            _, pred = torch.max(output, dim=1)\n",
        "            \n",
        "            tloss += loss.item()\n",
        "            csamp += pred.eq(target.cuda()).sum()\n",
        "            model.clean_activation_buffers()\n",
        "    aloss = tloss / samples\n",
        "    loss_val.append(aloss)\n",
        "    print('\\nAverage test loss: ' + '{:.4f}'.format(aloss) +\n",
        "          '  Accuracy:' + '{:5}'.format(csamp) + '/' +\n",
        "          '{:5}'.format(samples) + ' (' +\n",
        "          '{:4.2f}'.format(100.0 * csamp / samples) + '%)\\n')"
      ],
      "execution_count": 9,
      "outputs": []
    },
    {
      "cell_type": "code",
      "metadata": {
        "colab": {
          "base_uri": "https://localhost:8080/"
        },
        "id": "wg7PxA5YcrhS",
        "outputId": "9e7e17a5-34e5-442a-ee88-5e8cb0199835"
      },
      "source": [
        "N_EPOCHS = 1\n",
        "\n",
        "model = MoViNet(_C.MODEL.MoViNetA0, 600,causal = False, pretrained = True, tf_like = True )\n",
        "start_time = time.time()\n",
        "\n",
        "trloss_val, tsloss_val = [], []\n",
        "model.classifier[3] = torch.nn.Conv3d(2048, 51, (1,1,1))\n",
        "optimz = optim.Adam(model.parameters(), lr=0.00005)\n",
        "for epoch in range(1, N_EPOCHS + 1):\n",
        "    print('Epoch:', epoch)\n",
        "    train_iter(model, optimz, train_loader, trloss_val)\n",
        "    evaluate(model, test_loader, tsloss_val)\n",
        " \n",
        "print('Execution time:', '{:5.2f}'.format(time.time() - start_time), 'seconds')"
      ],
      "execution_count": 10,
      "outputs": [
        {
          "output_type": "stream",
          "text": [
            "Epoch: 1\n"
          ],
          "name": "stdout"
        },
        {
          "output_type": "stream",
          "text": [
            "/usr/local/lib/python3.7/dist-packages/torchvision/io/video.py:159: UserWarning: The pts_unit 'pts' gives wrong results and will be removed in a follow-up version. Please use pts_unit 'sec'.\n",
            "  \"The pts_unit 'pts' gives wrong results and will be removed in a \"\n"
          ],
          "name": "stderr"
        },
        {
          "output_type": "stream",
          "text": [
            "[    0/ 7519 (  0%)]  Loss: 3.9381\n",
            "[  800/ 7519 ( 11%)]  Loss: 3.2951\n",
            "[ 1600/ 7519 ( 21%)]  Loss: 3.2766\n",
            "[ 2400/ 7519 ( 32%)]  Loss: 2.9244\n",
            "[ 3200/ 7519 ( 43%)]  Loss: 2.5743\n",
            "[ 4000/ 7519 ( 53%)]  Loss: 2.2612\n",
            "[ 4800/ 7519 ( 64%)]  Loss: 2.6390\n",
            "[ 5600/ 7519 ( 74%)]  Loss: 2.7452\n",
            "[ 6400/ 7519 ( 85%)]  Loss: 2.6023\n",
            "[ 7200/ 7519 ( 96%)]  Loss: 2.1006\n",
            "\n",
            "Average test loss: 1.7466  Accuracy: 1755/ 2944 (59.61%)\n",
            "\n",
            "Execution time: 2653.52 seconds\n"
          ],
          "name": "stdout"
        }
      ]
    }
  ]
}
